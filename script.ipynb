{
 "cells": [
  {
   "cell_type": "code",
   "execution_count": 2,
   "metadata": {},
   "outputs": [],
   "source": [
    "import json\n",
    "\n",
    "def replace_string(obj, old_string, new_string):\n",
    "    if isinstance(obj, str):\n",
    "        # 如果找到了某個字串，就將它替換為新的字串\n",
    "        if old_string in obj:\n",
    "            return obj.replace(old_string, new_string)\n",
    "        else:\n",
    "            return obj\n",
    "    elif isinstance(obj, list):\n",
    "        # 對列表中的每一個元素進行遞歸處理\n",
    "        return [replace_string(item, old_string, new_string) for item in obj]\n",
    "    elif isinstance(obj, dict):\n",
    "        # 對字典中的每一個屬性進行遞歸處理\n",
    "        return {key: replace_string(value, old_string, new_string) for key, value in obj.items()}\n",
    "    else:\n",
    "        # 對於其他類型的對象，直接繼續返回\n",
    "        return obj\n"
   ]
  },
  {
   "cell_type": "code",
   "execution_count": 4,
   "metadata": {},
   "outputs": [],
   "source": [
    "\n",
    "with open(\"/Users/david/Desktop/class_data/Train/train/converted__ 0228.json\", \"r\") as f:\n",
    "    data = json.load(f)\n",
    "    \n",
    "\n",
    "    data = replace_string(data, \"converted_ \", \"converted__ \")\n",
    "\n",
    "with open(\"/Users/david/Desktop/class_data/Train/train/converted__ 0228.json\", \"w\") as f:\n",
    "    json.dump(data, f)\n",
    "\n"
   ]
  },
  {
   "cell_type": "code",
   "execution_count": null,
   "metadata": {},
   "outputs": [],
   "source": [
    "/Users/david/Desktop/class_data/Train/powder_uneven/label"
   ]
  },
  {
   "cell_type": "code",
   "execution_count": 3,
   "metadata": {},
   "outputs": [],
   "source": [
    "import os\n",
    "for filename in os.listdir(\"/Users/david/Desktop/class_data/Val/powder_uneven/label\"):\n",
    "# 判斷是否為 JSON 檔案\n",
    "    if filename.endswith(\".json\"):\n",
    "    # 讀取 JSON 檔案\n",
    "        with open(os.path.join(\"/Users/david/Desktop/class_data/Val/powder_uneven/label\", filename), \"r\") as f:\n",
    "            data = json.load(f)\n",
    "            # 修改 JSON 對象\n",
    "            data = replace_string(data, \"converted_ \", \"converted__ \")\n",
    "\n",
    "            # 寫回 JSON 檔案\n",
    "        with open(os.path.join(\"/Users/david/Desktop/class_data/Val/powder_uneven/label\", filename), \"w\") as f:\n",
    "            json.dump(data, f)\n"
   ]
  },
  {
   "cell_type": "code",
   "execution_count": null,
   "metadata": {},
   "outputs": [],
   "source": [
    "import os\n",
    "import cv2\n",
    "\n",
    "input_path = \"/Users/david/Desktop/class_data/Train/train\"\n",
    "output_path = \"/Users/david/Desktop/class_data/Train/try\"\n",
    "\n",
    "filenames = os.listdir(input_path)\n",
    "\n",
    "for filename in filenames:\n",
    "    if filename.endswith(\".png\"):\n",
    "        file_path = os.path.join(input_path, filename)\n",
    "        image = cv2.imread(file_path)\n",
    "        resized_image = cv2.resize(image, (200, 200)) \n",
    "        output_file_path = os.path.join(output_path, filename)\n",
    "        cv2.imwrite(output_file_path, resized_image)"
   ]
  },
  {
   "cell_type": "code",
   "execution_count": 24,
   "metadata": {},
   "outputs": [
    {
     "name": "stdout",
     "output_type": "stream",
     "text": [
      "_ 3162\n",
      "_ 3174\n",
      "_ 3158\n",
      "_ 3139\n",
      "_ 3181\n",
      "_ 3178\n",
      "_ 3154\n",
      "_ 0040\n",
      "_ 0041\n",
      "_ 3155\n",
      "_ 3179\n",
      "_ 3180\n",
      "_ 3138\n",
      "_ 3159\n",
      "_ 3175\n",
      "_ 3163\n",
      "_ 3168\n",
      "_ 3152\n",
      "_ 0007\n",
      "_ 0050\n",
      "_ 3164\n",
      "_ 3172\n",
      "_ 3173\n",
      "_ 3165\n",
      "_ 0051\n",
      "_ 0006\n",
      "_ 3153\n",
      "_ 3169\n",
      "_ 0044\n",
      "_ 0052\n",
      "_ 0005\n",
      "_ 3150\n",
      "_ 3170\n",
      "_ 3166\n",
      "_ 3167\n",
      "_ 3171\n",
      "_ 3151\n",
      "_ 0004\n",
      "_ 0053\n",
      "_ 3176\n",
      "_ 3160\n",
      "_ 0042\n",
      "_ 0054\n",
      "_ 0003\n",
      "_ 3156\n",
      "_ 3182\n",
      "_ 3157\n",
      "_ 0043\n",
      "_ 3161\n",
      "_ 3177\n"
     ]
    }
   ],
   "source": [
    "for filename in os.listdir(\"/Users/david/Desktop/class_data/Val/scratch/label\"):\n",
    "# 判斷是否為 JSON 檔案\n",
    "    if filename.endswith(\".json\"):\n",
    "        print(filename[9:15])"
   ]
  },
  {
   "cell_type": "code",
   "execution_count": null,
   "metadata": {},
   "outputs": [],
   "source": []
  }
 ],
 "metadata": {
  "kernelspec": {
   "display_name": "detectron2",
   "language": "python",
   "name": "python3"
  },
  "language_info": {
   "codemirror_mode": {
    "name": "ipython",
    "version": 3
   },
   "file_extension": ".py",
   "mimetype": "text/x-python",
   "name": "python",
   "nbconvert_exporter": "python",
   "pygments_lexer": "ipython3",
   "version": "3.8.15"
  },
  "orig_nbformat": 4,
  "vscode": {
   "interpreter": {
    "hash": "fca039ae475a6df453737fd1f4c9057d4b07d0e8d7572592096b44d35bfe3ecb"
   }
  }
 },
 "nbformat": 4,
 "nbformat_minor": 2
}
